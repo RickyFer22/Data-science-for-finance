{
 "cells": [
  {
   "cell_type": "markdown",
   "id": "8f3445f9",
   "metadata": {},
   "source": [
    "## Importing libraries"
   ]
  },
  {
   "cell_type": "code",
   "execution_count": 1,
   "id": "b4bc8437",
   "metadata": {},
   "outputs": [
    {
     "name": "stdout",
     "output_type": "stream",
     "text": [
      "Requirement already satisfied: yfinance in c:\\users\\rick\\appdata\\local\\programs\\python\\python310\\lib\\site-packages (0.2.14)\n",
      "Requirement already satisfied: cryptography>=3.3.2 in c:\\users\\rick\\appdata\\local\\programs\\python\\python310\\lib\\site-packages (from yfinance) (37.0.2)\n",
      "Requirement already satisfied: lxml>=4.9.1 in c:\\users\\rick\\appdata\\local\\programs\\python\\python310\\lib\\site-packages (from yfinance) (4.9.2)\n",
      "Requirement already satisfied: frozendict>=2.3.4 in c:\\users\\rick\\appdata\\local\\programs\\python\\python310\\lib\\site-packages (from yfinance) (2.3.6)\n",
      "Requirement already satisfied: beautifulsoup4>=4.11.1 in c:\\users\\rick\\appdata\\local\\programs\\python\\python310\\lib\\site-packages (from yfinance) (4.11.1)\n",
      "Requirement already satisfied: html5lib>=1.1 in c:\\users\\rick\\appdata\\local\\programs\\python\\python310\\lib\\site-packages (from yfinance) (1.1)\n",
      "Requirement already satisfied: numpy>=1.16.5 in c:\\users\\rick\\appdata\\local\\programs\\python\\python310\\lib\\site-packages (from yfinance) (1.22.3)\n",
      "Requirement already satisfied: pandas>=1.3.0 in c:\\users\\rick\\appdata\\local\\programs\\python\\python310\\lib\\site-packages (from yfinance) (1.4.2)\n",
      "Requirement already satisfied: multitasking>=0.0.7 in c:\\users\\rick\\appdata\\local\\programs\\python\\python310\\lib\\site-packages (from yfinance) (0.0.11)\n",
      "Requirement already satisfied: appdirs>=1.4.4 in c:\\users\\rick\\appdata\\local\\programs\\python\\python310\\lib\\site-packages (from yfinance) (1.4.4)\n",
      "Requirement already satisfied: pytz>=2022.5 in c:\\users\\rick\\appdata\\local\\programs\\python\\python310\\lib\\site-packages (from yfinance) (2023.2)\n",
      "Requirement already satisfied: requests>=2.26 in c:\\users\\rick\\appdata\\local\\programs\\python\\python310\\lib\\site-packages (from yfinance) (2.28.2)\n",
      "Requirement already satisfied: soupsieve>1.2 in c:\\users\\rick\\appdata\\local\\programs\\python\\python310\\lib\\site-packages (from beautifulsoup4>=4.11.1->yfinance) (2.3.2.post1)\n",
      "Requirement already satisfied: cffi>=1.12 in c:\\users\\rick\\appdata\\local\\programs\\python\\python310\\lib\\site-packages (from cryptography>=3.3.2->yfinance) (1.15.0)\n",
      "Requirement already satisfied: webencodings in c:\\users\\rick\\appdata\\local\\programs\\python\\python310\\lib\\site-packages (from html5lib>=1.1->yfinance) (0.5.1)\n",
      "Requirement already satisfied: six>=1.9 in c:\\users\\rick\\appdata\\local\\programs\\python\\python310\\lib\\site-packages (from html5lib>=1.1->yfinance) (1.16.0)\n",
      "Requirement already satisfied: python-dateutil>=2.8.1 in c:\\users\\rick\\appdata\\local\\programs\\python\\python310\\lib\\site-packages (from pandas>=1.3.0->yfinance) (2.8.2)\n",
      "Requirement already satisfied: urllib3<1.27,>=1.21.1 in c:\\users\\rick\\appdata\\local\\programs\\python\\python310\\lib\\site-packages (from requests>=2.26->yfinance) (1.26.14)\n",
      "Requirement already satisfied: idna<4,>=2.5 in c:\\users\\rick\\appdata\\local\\programs\\python\\python310\\lib\\site-packages (from requests>=2.26->yfinance) (2.8)\n",
      "Requirement already satisfied: certifi>=2017.4.17 in c:\\users\\rick\\appdata\\local\\programs\\python\\python310\\lib\\site-packages (from requests>=2.26->yfinance) (2021.10.8)\n",
      "Requirement already satisfied: charset-normalizer<4,>=2 in c:\\users\\rick\\appdata\\local\\programs\\python\\python310\\lib\\site-packages (from requests>=2.26->yfinance) (2.0.12)\n",
      "Requirement already satisfied: pycparser in c:\\users\\rick\\appdata\\local\\programs\\python\\python310\\lib\\site-packages (from cffi>=1.12->cryptography>=3.3.2->yfinance) (2.21)\n"
     ]
    }
   ],
   "source": [
    "!pip install yfinance"
   ]
  },
  {
   "cell_type": "code",
   "execution_count": 2,
   "id": "ddf1008c",
   "metadata": {},
   "outputs": [
    {
     "name": "stdout",
     "output_type": "stream",
     "text": [
      "Requirement already satisfied: pandas-datareader in c:\\users\\rick\\appdata\\local\\programs\\python\\python310\\lib\\site-packages (0.10.0)\n",
      "Requirement already satisfied: pandas>=0.23 in c:\\users\\rick\\appdata\\local\\programs\\python\\python310\\lib\\site-packages (from pandas-datareader) (1.4.2)\n",
      "Requirement already satisfied: requests>=2.19.0 in c:\\users\\rick\\appdata\\local\\programs\\python\\python310\\lib\\site-packages (from pandas-datareader) (2.28.2)\n",
      "Requirement already satisfied: lxml in c:\\users\\rick\\appdata\\local\\programs\\python\\python310\\lib\\site-packages (from pandas-datareader) (4.9.2)\n",
      "Requirement already satisfied: numpy>=1.21.0 in c:\\users\\rick\\appdata\\local\\programs\\python\\python310\\lib\\site-packages (from pandas>=0.23->pandas-datareader) (1.22.3)\n",
      "Requirement already satisfied: python-dateutil>=2.8.1 in c:\\users\\rick\\appdata\\local\\programs\\python\\python310\\lib\\site-packages (from pandas>=0.23->pandas-datareader) (2.8.2)\n",
      "Requirement already satisfied: pytz>=2020.1 in c:\\users\\rick\\appdata\\local\\programs\\python\\python310\\lib\\site-packages (from pandas>=0.23->pandas-datareader) (2023.2)\n",
      "Requirement already satisfied: urllib3<1.27,>=1.21.1 in c:\\users\\rick\\appdata\\local\\programs\\python\\python310\\lib\\site-packages (from requests>=2.19.0->pandas-datareader) (1.26.14)\n",
      "Requirement already satisfied: certifi>=2017.4.17 in c:\\users\\rick\\appdata\\local\\programs\\python\\python310\\lib\\site-packages (from requests>=2.19.0->pandas-datareader) (2021.10.8)\n",
      "Requirement already satisfied: charset-normalizer<4,>=2 in c:\\users\\rick\\appdata\\local\\programs\\python\\python310\\lib\\site-packages (from requests>=2.19.0->pandas-datareader) (2.0.12)\n",
      "Requirement already satisfied: idna<4,>=2.5 in c:\\users\\rick\\appdata\\local\\programs\\python\\python310\\lib\\site-packages (from requests>=2.19.0->pandas-datareader) (2.8)\n",
      "Requirement already satisfied: six>=1.5 in c:\\users\\rick\\appdata\\local\\programs\\python\\python310\\lib\\site-packages (from python-dateutil>=2.8.1->pandas>=0.23->pandas-datareader) (1.16.0)\n"
     ]
    }
   ],
   "source": [
    "!pip install pandas-datareader"
   ]
  },
  {
   "cell_type": "code",
   "execution_count": 3,
   "id": "25f2e5d6",
   "metadata": {},
   "outputs": [
    {
     "name": "stdout",
     "output_type": "stream",
     "text": [
      "Requirement already satisfied: tensorflow in c:\\users\\rick\\appdata\\local\\programs\\python\\python310\\lib\\site-packages (2.12.0)\n",
      "Requirement already satisfied: tensorflow-intel==2.12.0 in c:\\users\\rick\\appdata\\local\\programs\\python\\python310\\lib\\site-packages (from tensorflow) (2.12.0)\n",
      "Requirement already satisfied: gast<=0.4.0,>=0.2.1 in c:\\users\\rick\\appdata\\local\\programs\\python\\python310\\lib\\site-packages (from tensorflow-intel==2.12.0->tensorflow) (0.4.0)\n",
      "Requirement already satisfied: protobuf!=4.21.0,!=4.21.1,!=4.21.2,!=4.21.3,!=4.21.4,!=4.21.5,<5.0.0dev,>=3.20.3 in c:\\users\\rick\\appdata\\local\\programs\\python\\python310\\lib\\site-packages (from tensorflow-intel==2.12.0->tensorflow) (4.22.1)\n",
      "Requirement already satisfied: setuptools in c:\\users\\rick\\appdata\\local\\programs\\python\\python310\\lib\\site-packages (from tensorflow-intel==2.12.0->tensorflow) (58.1.0)\n",
      "Requirement already satisfied: google-pasta>=0.1.1 in c:\\users\\rick\\appdata\\local\\programs\\python\\python310\\lib\\site-packages (from tensorflow-intel==2.12.0->tensorflow) (0.2.0)\n",
      "Requirement already satisfied: tensorflow-estimator<2.13,>=2.12.0 in c:\\users\\rick\\appdata\\local\\programs\\python\\python310\\lib\\site-packages (from tensorflow-intel==2.12.0->tensorflow) (2.12.0)\n",
      "Requirement already satisfied: wrapt<1.15,>=1.11.0 in c:\\users\\rick\\appdata\\local\\programs\\python\\python310\\lib\\site-packages (from tensorflow-intel==2.12.0->tensorflow) (1.14.1)\n",
      "Requirement already satisfied: h5py>=2.9.0 in c:\\users\\rick\\appdata\\local\\programs\\python\\python310\\lib\\site-packages (from tensorflow-intel==2.12.0->tensorflow) (3.8.0)\n",
      "Requirement already satisfied: six>=1.12.0 in c:\\users\\rick\\appdata\\local\\programs\\python\\python310\\lib\\site-packages (from tensorflow-intel==2.12.0->tensorflow) (1.16.0)\n",
      "Requirement already satisfied: absl-py>=1.0.0 in c:\\users\\rick\\appdata\\local\\programs\\python\\python310\\lib\\site-packages (from tensorflow-intel==2.12.0->tensorflow) (1.1.0)\n",
      "Requirement already satisfied: jax>=0.3.15 in c:\\users\\rick\\appdata\\local\\programs\\python\\python310\\lib\\site-packages (from tensorflow-intel==2.12.0->tensorflow) (0.4.6)\n",
      "Requirement already satisfied: astunparse>=1.6.0 in c:\\users\\rick\\appdata\\local\\programs\\python\\python310\\lib\\site-packages (from tensorflow-intel==2.12.0->tensorflow) (1.6.3)\n",
      "Requirement already satisfied: tensorboard<2.13,>=2.12 in c:\\users\\rick\\appdata\\local\\programs\\python\\python310\\lib\\site-packages (from tensorflow-intel==2.12.0->tensorflow) (2.12.0)\n",
      "Requirement already satisfied: opt-einsum>=2.3.2 in c:\\users\\rick\\appdata\\local\\programs\\python\\python310\\lib\\site-packages (from tensorflow-intel==2.12.0->tensorflow) (3.3.0)\n",
      "Requirement already satisfied: tensorflow-io-gcs-filesystem>=0.23.1 in c:\\users\\rick\\appdata\\local\\programs\\python\\python310\\lib\\site-packages (from tensorflow-intel==2.12.0->tensorflow) (0.31.0)\n",
      "Requirement already satisfied: flatbuffers>=2.0 in c:\\users\\rick\\appdata\\local\\programs\\python\\python310\\lib\\site-packages (from tensorflow-intel==2.12.0->tensorflow) (23.3.3)\n",
      "Requirement already satisfied: grpcio<2.0,>=1.24.3 in c:\\users\\rick\\appdata\\local\\programs\\python\\python310\\lib\\site-packages (from tensorflow-intel==2.12.0->tensorflow) (1.51.3)\n",
      "Requirement already satisfied: keras<2.13,>=2.12.0 in c:\\users\\rick\\appdata\\local\\programs\\python\\python310\\lib\\site-packages (from tensorflow-intel==2.12.0->tensorflow) (2.12.0)\n",
      "Requirement already satisfied: numpy<1.24,>=1.22 in c:\\users\\rick\\appdata\\local\\programs\\python\\python310\\lib\\site-packages (from tensorflow-intel==2.12.0->tensorflow) (1.22.3)\n",
      "Requirement already satisfied: typing-extensions>=3.6.6 in c:\\users\\rick\\appdata\\local\\programs\\python\\python310\\lib\\site-packages (from tensorflow-intel==2.12.0->tensorflow) (4.2.0)\n",
      "Requirement already satisfied: libclang>=13.0.0 in c:\\users\\rick\\appdata\\local\\programs\\python\\python310\\lib\\site-packages (from tensorflow-intel==2.12.0->tensorflow) (16.0.0)\n",
      "Requirement already satisfied: termcolor>=1.1.0 in c:\\users\\rick\\appdata\\local\\programs\\python\\python310\\lib\\site-packages (from tensorflow-intel==2.12.0->tensorflow) (1.1.0)\n",
      "Requirement already satisfied: packaging in c:\\users\\rick\\appdata\\local\\programs\\python\\python310\\lib\\site-packages (from tensorflow-intel==2.12.0->tensorflow) (21.3)\n",
      "Requirement already satisfied: wheel<1.0,>=0.23.0 in c:\\users\\rick\\appdata\\local\\programs\\python\\python310\\lib\\site-packages (from astunparse>=1.6.0->tensorflow-intel==2.12.0->tensorflow) (0.40.0)\n",
      "Requirement already satisfied: scipy>=1.5 in c:\\users\\rick\\appdata\\local\\programs\\python\\python310\\lib\\site-packages (from jax>=0.3.15->tensorflow-intel==2.12.0->tensorflow) (1.8.1)\n",
      "Requirement already satisfied: tensorboard-data-server<0.8.0,>=0.7.0 in c:\\users\\rick\\appdata\\local\\programs\\python\\python310\\lib\\site-packages (from tensorboard<2.13,>=2.12->tensorflow-intel==2.12.0->tensorflow) (0.7.0)\n",
      "Requirement already satisfied: google-auth-oauthlib<0.5,>=0.4.1 in c:\\users\\rick\\appdata\\local\\programs\\python\\python310\\lib\\site-packages (from tensorboard<2.13,>=2.12->tensorflow-intel==2.12.0->tensorflow) (0.4.6)\n",
      "Requirement already satisfied: requests<3,>=2.21.0 in c:\\users\\rick\\appdata\\local\\programs\\python\\python310\\lib\\site-packages (from tensorboard<2.13,>=2.12->tensorflow-intel==2.12.0->tensorflow) (2.28.2)\n",
      "Requirement already satisfied: tensorboard-plugin-wit>=1.6.0 in c:\\users\\rick\\appdata\\local\\programs\\python\\python310\\lib\\site-packages (from tensorboard<2.13,>=2.12->tensorflow-intel==2.12.0->tensorflow) (1.8.1)\n",
      "Requirement already satisfied: google-auth<3,>=1.6.3 in c:\\users\\rick\\appdata\\local\\programs\\python\\python310\\lib\\site-packages (from tensorboard<2.13,>=2.12->tensorflow-intel==2.12.0->tensorflow) (2.16.3)\n",
      "Requirement already satisfied: werkzeug>=1.0.1 in c:\\users\\rick\\appdata\\local\\programs\\python\\python310\\lib\\site-packages (from tensorboard<2.13,>=2.12->tensorflow-intel==2.12.0->tensorflow) (2.1.2)\n",
      "Requirement already satisfied: markdown>=2.6.8 in c:\\users\\rick\\appdata\\local\\programs\\python\\python310\\lib\\site-packages (from tensorboard<2.13,>=2.12->tensorflow-intel==2.12.0->tensorflow) (3.4.3)\n",
      "Requirement already satisfied: pyparsing!=3.0.5,>=2.0.2 in c:\\users\\rick\\appdata\\local\\programs\\python\\python310\\lib\\site-packages (from packaging->tensorflow-intel==2.12.0->tensorflow) (3.0.8)\n",
      "Requirement already satisfied: rsa<5,>=3.1.4 in c:\\users\\rick\\appdata\\local\\programs\\python\\python310\\lib\\site-packages (from google-auth<3,>=1.6.3->tensorboard<2.13,>=2.12->tensorflow-intel==2.12.0->tensorflow) (4.8)\n",
      "Requirement already satisfied: pyasn1-modules>=0.2.1 in c:\\users\\rick\\appdata\\local\\programs\\python\\python310\\lib\\site-packages (from google-auth<3,>=1.6.3->tensorboard<2.13,>=2.12->tensorflow-intel==2.12.0->tensorflow) (0.2.8)\n",
      "Requirement already satisfied: cachetools<6.0,>=2.0.0 in c:\\users\\rick\\appdata\\local\\programs\\python\\python310\\lib\\site-packages (from google-auth<3,>=1.6.3->tensorboard<2.13,>=2.12->tensorflow-intel==2.12.0->tensorflow) (5.0.0)\n",
      "Requirement already satisfied: requests-oauthlib>=0.7.0 in c:\\users\\rick\\appdata\\local\\programs\\python\\python310\\lib\\site-packages (from google-auth-oauthlib<0.5,>=0.4.1->tensorboard<2.13,>=2.12->tensorflow-intel==2.12.0->tensorflow) (1.3.1)\n",
      "Requirement already satisfied: urllib3<1.27,>=1.21.1 in c:\\users\\rick\\appdata\\local\\programs\\python\\python310\\lib\\site-packages (from requests<3,>=2.21.0->tensorboard<2.13,>=2.12->tensorflow-intel==2.12.0->tensorflow) (1.26.14)\n",
      "Requirement already satisfied: charset-normalizer<4,>=2 in c:\\users\\rick\\appdata\\local\\programs\\python\\python310\\lib\\site-packages (from requests<3,>=2.21.0->tensorboard<2.13,>=2.12->tensorflow-intel==2.12.0->tensorflow) (2.0.12)\n",
      "Requirement already satisfied: certifi>=2017.4.17 in c:\\users\\rick\\appdata\\local\\programs\\python\\python310\\lib\\site-packages (from requests<3,>=2.21.0->tensorboard<2.13,>=2.12->tensorflow-intel==2.12.0->tensorflow) (2021.10.8)\n",
      "Requirement already satisfied: idna<4,>=2.5 in c:\\users\\rick\\appdata\\local\\programs\\python\\python310\\lib\\site-packages (from requests<3,>=2.21.0->tensorboard<2.13,>=2.12->tensorflow-intel==2.12.0->tensorflow) (2.8)\n",
      "Requirement already satisfied: pyasn1<0.5.0,>=0.4.6 in c:\\users\\rick\\appdata\\local\\programs\\python\\python310\\lib\\site-packages (from pyasn1-modules>=0.2.1->google-auth<3,>=1.6.3->tensorboard<2.13,>=2.12->tensorflow-intel==2.12.0->tensorflow) (0.4.8)\n",
      "Requirement already satisfied: oauthlib>=3.0.0 in c:\\users\\rick\\appdata\\local\\programs\\python\\python310\\lib\\site-packages (from requests-oauthlib>=0.7.0->google-auth-oauthlib<0.5,>=0.4.1->tensorboard<2.13,>=2.12->tensorflow-intel==2.12.0->tensorflow) (3.2.0)\n"
     ]
    }
   ],
   "source": [
    "!pip install tensorflow"
   ]
  },
  {
   "cell_type": "code",
   "execution_count": 4,
   "id": "5e4e3a84",
   "metadata": {},
   "outputs": [],
   "source": [
    "import numpy as np\n",
    "import pandas as pd\n",
    "import matplotlib.pyplot as plt\n",
    "import seaborn as sns\n",
    "sns.set()\n",
    "from pandas_datareader import data as pdr\n",
    "import yfinance as yf\n",
    "from collections import deque\n",
    "import random\n",
    "import tensorflow.compat.v1 as tf\n",
    "tf.compat.v1.disable_eager_execution()"
   ]
  },
  {
   "cell_type": "markdown",
   "id": "af768d13",
   "metadata": {},
   "source": [
    "## Fetching  the data"
   ]
  },
  {
   "cell_type": "code",
   "execution_count": 5,
   "id": "1ff2cae5",
   "metadata": {},
   "outputs": [
    {
     "name": "stdout",
     "output_type": "stream",
     "text": [
      "[*********************100%***********************]  1 of 1 completed\n"
     ]
    },
    {
     "data": {
      "text/html": [
       "<div>\n",
       "<style scoped>\n",
       "    .dataframe tbody tr th:only-of-type {\n",
       "        vertical-align: middle;\n",
       "    }\n",
       "\n",
       "    .dataframe tbody tr th {\n",
       "        vertical-align: top;\n",
       "    }\n",
       "\n",
       "    .dataframe thead th {\n",
       "        text-align: right;\n",
       "    }\n",
       "</style>\n",
       "<table border=\"1\" class=\"dataframe\">\n",
       "  <thead>\n",
       "    <tr style=\"text-align: right;\">\n",
       "      <th></th>\n",
       "      <th>Date</th>\n",
       "      <th>Open</th>\n",
       "      <th>High</th>\n",
       "      <th>Low</th>\n",
       "      <th>Close</th>\n",
       "      <th>Adj Close</th>\n",
       "      <th>Volume</th>\n",
       "    </tr>\n",
       "  </thead>\n",
       "  <tbody>\n",
       "    <tr>\n",
       "      <th>0</th>\n",
       "      <td>2022-01-03</td>\n",
       "      <td>25.389999</td>\n",
       "      <td>25.540001</td>\n",
       "      <td>25.150000</td>\n",
       "      <td>25.260000</td>\n",
       "      <td>24.712013</td>\n",
       "      <td>4526700</td>\n",
       "    </tr>\n",
       "    <tr>\n",
       "      <th>1</th>\n",
       "      <td>2022-01-04</td>\n",
       "      <td>25.250000</td>\n",
       "      <td>25.370001</td>\n",
       "      <td>24.980000</td>\n",
       "      <td>25.110001</td>\n",
       "      <td>24.565268</td>\n",
       "      <td>8180900</td>\n",
       "    </tr>\n",
       "    <tr>\n",
       "      <th>2</th>\n",
       "      <td>2022-01-05</td>\n",
       "      <td>24.840000</td>\n",
       "      <td>24.920000</td>\n",
       "      <td>24.250000</td>\n",
       "      <td>24.299999</td>\n",
       "      <td>23.772839</td>\n",
       "      <td>8881400</td>\n",
       "    </tr>\n",
       "    <tr>\n",
       "      <th>3</th>\n",
       "      <td>2022-01-06</td>\n",
       "      <td>24.200001</td>\n",
       "      <td>24.490000</td>\n",
       "      <td>23.969999</td>\n",
       "      <td>24.110001</td>\n",
       "      <td>23.586962</td>\n",
       "      <td>11523300</td>\n",
       "    </tr>\n",
       "    <tr>\n",
       "      <th>4</th>\n",
       "      <td>2022-01-07</td>\n",
       "      <td>24.219999</td>\n",
       "      <td>24.370001</td>\n",
       "      <td>23.969999</td>\n",
       "      <td>24.200001</td>\n",
       "      <td>23.675009</td>\n",
       "      <td>6596500</td>\n",
       "    </tr>\n",
       "  </tbody>\n",
       "</table>\n",
       "</div>"
      ],
      "text/plain": [
       "        Date       Open       High        Low      Close  Adj Close    Volume\n",
       "0 2022-01-03  25.389999  25.540001  25.150000  25.260000  24.712013   4526700\n",
       "1 2022-01-04  25.250000  25.370001  24.980000  25.110001  24.565268   8180900\n",
       "2 2022-01-05  24.840000  24.920000  24.250000  24.299999  23.772839   8881400\n",
       "3 2022-01-06  24.200001  24.490000  23.969999  24.110001  23.586962  11523300\n",
       "4 2022-01-07  24.219999  24.370001  23.969999  24.200001  23.675009   6596500"
      ]
     },
     "execution_count": 5,
     "metadata": {},
     "output_type": "execute_result"
    }
   ],
   "source": [
    "yf.pdr_override()\n",
    "df_full = pdr.get_data_yahoo(\"INFY\", start=\"2022-01-01\").reset_index()\n",
    "df_full.to_csv('INFY.csv',index=False)\n",
    "df_full.head()"
   ]
  },
  {
   "cell_type": "markdown",
   "id": "6970e79a",
   "metadata": {},
   "source": [
    "## Define the Q-Learning Agent\n"
   ]
  },
  {
   "cell_type": "code",
   "execution_count": 6,
   "id": "8bd57195",
   "metadata": {},
   "outputs": [],
   "source": [
    "df= df_full.copy()\n",
    "name = 'Q-learning agent'\n",
    "class Agent:\n",
    "    def __init__(self, state_size, window_size, trend, skip, batch_size):\n",
    "        self.state_size = state_size\n",
    "        self.window_size = window_size\n",
    "        self.half_window = window_size // 2\n",
    "        self.trend = trend\n",
    "        self.skip = skip\n",
    "        self.action_size = 3\n",
    "        self.batch_size = batch_size\n",
    "        self.memory = deque(maxlen = 1000)\n",
    "        self.inventory = []\n",
    "        self.gamma = 0.95\n",
    "        self.epsilon = 0.5\n",
    "        self.epsilon_min = 0.01\n",
    "        self.epsilon_decay = 0.999\n",
    "        tf.reset_default_graph()\n",
    "        self.sess = tf.InteractiveSession()\n",
    "        self.X = tf.placeholder(tf.float32, [None, self.state_size])\n",
    "        self.Y = tf.placeholder(tf.float32, [None, self.action_size])\n",
    "        feed = tf.layers.dense(self.X, 256, activation = tf.nn.relu)\n",
    "        self.logits = tf.layers.dense(feed, self.action_size)\n",
    "        self.cost = tf.reduce_mean(tf.square(self.Y - self.logits))\n",
    "        self.optimizer = tf.train.GradientDescentOptimizer(1e-5).minimize(\n",
    "            self.cost\n",
    "        )\n",
    "        self.sess.run(tf.global_variables_initializer())\n",
    "    def act(self, state):\n",
    "        if random.random() <= self.epsilon:\n",
    "            return random.randrange(self.action_size)\n",
    "        return np.argmax(\n",
    "            self.sess.run(self.logits, feed_dict = {self.X: state})[0]\n",
    "        )\n",
    "    def get_state(self, t):\n",
    "        window_size = self.window_size + 1\n",
    "        d = t - window_size + 1\n",
    "        block = self.trend[d : t + 1] if d >= 0 else -d * [self.trend[0]] + self.trend[0 : t + 1]\n",
    "        res = []\n",
    "        for i in range(window_size - 1):\n",
    "            res.append(block[i + 1] - block[i])\n",
    "        return np.array([res])\n",
    "    def replay(self, batch_size):\n",
    "        mini_batch = []\n",
    "        l = len(self.memory)\n",
    "        for i in range(l - batch_size, l):\n",
    "            mini_batch.append(self.memory[i])\n",
    "        replay_size = len(mini_batch)\n",
    "        X = np.empty((replay_size, self.state_size))\n",
    "        Y = np.empty((replay_size, self.action_size))\n",
    "        states = np.array([a[0][0] for a in mini_batch])\n",
    "        new_states = np.array([a[3][0] for a in mini_batch])\n",
    "        Q = self.sess.run(self.logits, feed_dict = {self.X: states})\n",
    "        Q_new = self.sess.run(self.logits, feed_dict = {self.X: new_states})\n",
    "        for i in range(len(mini_batch)):\n",
    "            state, action, reward, next_state, done = mini_batch[i]\n",
    "            target = Q[i]\n",
    "            target[action] = reward\n",
    "            if not done:\n",
    "                target[action] += self.gamma * np.amax(Q_new[i])\n",
    "            X[i] = state\n",
    "            Y[i] = target\n",
    "        cost, _ = self.sess.run(\n",
    "            [self.cost, self.optimizer], feed_dict = {self.X: X, self.Y: Y}\n",
    "        )\n",
    "        if self.epsilon > self.epsilon_min:\n",
    "            self.epsilon *= self.epsilon_decay\n",
    "        return cost\n",
    "    def buy(self, initial_money):\n",
    "        starting_money = initial_money\n",
    "        states_sell = []\n",
    "        states_buy = []\n",
    "        inventory = []\n",
    "        state = self.get_state(0)\n",
    "        for t in range(0, len(self.trend) - 1, self.skip):\n",
    "            action = self.act(state)\n",
    "            next_state = self.get_state(t + 1)\n",
    "            if action == 1 and initial_money >= self.trend[t] and t < (len(self.trend) - self.half_window):\n",
    "                inventory.append(self.trend[t])\n",
    "                initial_money -= self.trend[t]\n",
    "                states_buy.append(t)\n",
    "                print('day %d: buy 1 unit at price %f, total balance %f'% (t, self.trend[t], initial_money))\n",
    "            elif action == 2 and len(inventory):\n",
    "                bought_price = inventory.pop(0)\n",
    "                initial_money += self.trend[t]\n",
    "                states_sell.append(t)\n",
    "                try:\n",
    "                    invest = ((close[t] - bought_price) / bought_price) * 100\n",
    "                except:\n",
    "                    invest = 0\n",
    "                print(\n",
    "                    'day %d, sell 1 unit at price %f, investment %f %%, total balance %f,'\n",
    "                    % (t, close[t], invest, initial_money)\n",
    "                )\n",
    "            state = next_state\n",
    "        invest = ((initial_money - starting_money) / starting_money) * 100\n",
    "        total_gains = initial_money - starting_money\n",
    "        return states_buy, states_sell, total_gains, invest\n",
    "    def train(self, iterations, checkpoint, initial_money):\n",
    "        for i in range(iterations):\n",
    "            total_profit = 0\n",
    "            inventory = []\n",
    "            state = self.get_state(0)\n",
    "            starting_money = initial_money\n",
    "            for t in range(0, len(self.trend) - 1, self.skip):\n",
    "                action = self.act(state)\n",
    "                next_state = self.get_state(t + 1)\n",
    "                if action == 1 and starting_money >= self.trend[t] and t < (len(self.trend) - self.half_window):\n",
    "                    inventory.append(self.trend[t])\n",
    "                    starting_money -= self.trend[t]\n",
    "                elif action == 2 and len(inventory) > 0:\n",
    "                    bought_price = inventory.pop(0)\n",
    "                    total_profit += self.trend[t] - bought_price\n",
    "                    starting_money += self.trend[t]\n",
    "                invest = ((starting_money - initial_money) / initial_money)\n",
    "                self.memory.append((state, action, invest, \n",
    "                                    next_state, starting_money < initial_money))\n",
    "                state = next_state\n",
    "                batch_size = min(self.batch_size, len(self.memory))\n",
    "                cost = self.replay(batch_size)\n",
    "            if (i+1) % checkpoint == 0:\n",
    "                print('epoch: %d, total rewards: %f.3, cost: %f, total money: %f'%(i + 1, total_profit, cost,\n",
    "                                                                                  starting_money))"
   ]
  },
  {
   "cell_type": "markdown",
   "id": "f4a60f7d",
   "metadata": {},
   "source": [
    "## Train the Agent"
   ]
  },
  {
   "cell_type": "code",
   "execution_count": 7,
   "id": "c73c7983",
   "metadata": {},
   "outputs": [
    {
     "name": "stderr",
     "output_type": "stream",
     "text": [
      "C:\\Users\\RICK\\AppData\\Local\\Temp\\ipykernel_18768\\2714956697.py:22: UserWarning: `tf.layers.dense` is deprecated and will be removed in a future version. Please use `tf.keras.layers.Dense` instead.\n",
      "  feed = tf.layers.dense(self.X, 256, activation = tf.nn.relu)\n",
      "C:\\Users\\RICK\\AppData\\Local\\Temp\\ipykernel_18768\\2714956697.py:23: UserWarning: `tf.layers.dense` is deprecated and will be removed in a future version. Please use `tf.keras.layers.Dense` instead.\n",
      "  self.logits = tf.layers.dense(feed, self.action_size)\n"
     ]
    },
    {
     "name": "stdout",
     "output_type": "stream",
     "text": [
      "epoch: 10, total rewards: -1.080000.3, cost: 0.007066, total money: 14998.920000\n",
      "epoch: 20, total rewards: -0.980000.3, cost: 0.006261, total money: 14999.020000\n",
      "epoch: 30, total rewards: 0.560001.3, cost: 0.002398, total money: 15000.560001\n",
      "epoch: 40, total rewards: -0.689999.3, cost: 0.005263, total money: 14999.310001\n",
      "epoch: 50, total rewards: -1.340000.3, cost: 0.004854, total money: 14998.660000\n",
      "epoch: 60, total rewards: -1.019999.3, cost: 0.004530, total money: 14998.980001\n",
      "epoch: 70, total rewards: -0.919998.3, cost: 0.003847, total money: 14999.080002\n",
      "epoch: 80, total rewards: -0.809998.3, cost: 0.004001, total money: 14999.190002\n",
      "epoch: 90, total rewards: -0.029999.3, cost: 0.003667, total money: 14999.970001\n",
      "epoch: 100, total rewards: 0.050001.3, cost: 0.003983, total money: 15000.050001\n",
      "epoch: 110, total rewards: 1.200001.3, cost: 0.002022, total money: 15001.200001\n",
      "epoch: 120, total rewards: 1.890001.3, cost: 0.002011, total money: 15001.890001\n",
      "epoch: 130, total rewards: 2.220001.3, cost: 0.002075, total money: 15002.220001\n",
      "epoch: 140, total rewards: 1.790003.3, cost: 0.002185, total money: 15001.790003\n",
      "epoch: 150, total rewards: 2.580002.3, cost: 0.001987, total money: 15002.580002\n",
      "epoch: 160, total rewards: 1.190001.3, cost: 0.001980, total money: 15001.190001\n",
      "epoch: 170, total rewards: 1.610003.3, cost: 0.002714, total money: 15001.610003\n",
      "epoch: 180, total rewards: 1.750002.3, cost: 0.001756, total money: 15001.750002\n",
      "epoch: 190, total rewards: 1.750002.3, cost: 0.001856, total money: 15001.750002\n",
      "epoch: 200, total rewards: 1.750002.3, cost: 0.002467, total money: 15001.750002\n"
     ]
    }
   ],
   "source": [
    "close = df.Close.values.tolist()\n",
    "initial_money = 15000\n",
    "window_size = 30\n",
    "skip = 1\n",
    "batch_size = 32\n",
    "agent = Agent(state_size = window_size, \n",
    "              window_size = window_size, \n",
    "              trend = close, \n",
    "              skip = skip, \n",
    "              batch_size = batch_size)\n",
    "agent.train(iterations = 200, checkpoint = 10, initial_money = initial_money)"
   ]
  },
  {
   "cell_type": "markdown",
   "id": "f5e572be",
   "metadata": {},
   "source": [
    "## Test the Agent\n"
   ]
  },
  {
   "cell_type": "code",
   "execution_count": 8,
   "id": "0eb65ffa",
   "metadata": {},
   "outputs": [
    {
     "name": "stdout",
     "output_type": "stream",
     "text": [
      "day 0: buy 1 unit at price 25.260000, total balance 14974.740000\n",
      "day 3: buy 1 unit at price 24.110001, total balance 14950.629999\n",
      "day 4, sell 1 unit at price 24.200001, investment -4.196356 %, total balance 14974.830000,\n",
      "day 9, sell 1 unit at price 26.200001, investment 8.668603 %, total balance 15001.030001,\n",
      "day 71: buy 1 unit at price 20.459999, total balance 14980.570002\n",
      "day 72, sell 1 unit at price 20.559999, investment 0.488760 %, total balance 15001.130001,\n",
      "day 160: buy 1 unit at price 19.250000, total balance 14981.880001\n",
      "day 161, sell 1 unit at price 19.250000, investment 0.000000 %, total balance 15001.130001,\n",
      "day 169: buy 1 unit at price 17.980000, total balance 14983.150002\n",
      "day 170, sell 1 unit at price 18.430000, investment 2.502785 %, total balance 15001.580002,\n",
      "day 182: buy 1 unit at price 16.610001, total balance 14984.970001\n",
      "day 185, sell 1 unit at price 17.110001, investment 3.010235 %, total balance 15002.080002,\n",
      "day 187: buy 1 unit at price 16.969999, total balance 14985.110003\n",
      "day 188, sell 1 unit at price 17.049999, investment 0.471420 %, total balance 15002.160002,\n",
      "day 288: buy 1 unit at price 18.160000, total balance 14984.000002\n",
      "day 290: buy 1 unit at price 18.020000, total balance 14965.980001\n",
      "day 291, sell 1 unit at price 18.090000, investment -0.385461 %, total balance 14984.070002,\n",
      "day 297, sell 1 unit at price 17.680000, investment -1.886793 %, total balance 15001.750002,\n"
     ]
    }
   ],
   "source": [
    "states_buy, states_sell, total_gains, invest = agent.buy(initial_money = initial_money)"
   ]
  },
  {
   "cell_type": "markdown",
   "id": "54185d34",
   "metadata": {},
   "source": [
    "## Plot the total gains vs the invested figures."
   ]
  },
  {
   "cell_type": "code",
   "execution_count": 9,
   "id": "0157bcb6",
   "metadata": {},
   "outputs": [
    {
     "data": {
      "image/png": "[encoded data removed]",
      "text/plain": [
       "<Figure size 1080x360 with 1 Axes>"
      ]
     },
     "metadata": {
      "needs_background": "light"
     },
     "output_type": "display_data"
    }
   ],
   "source": [
    "fig = plt.figure(figsize = (15,5))\n",
    "plt.plot(close, color='r', lw=2.)\n",
    "plt.plot(close, '^', markersize=10, color='m', label = 'buying signal', markevery = states_buy)\n",
    "plt.plot(close, 'v', markersize=10, color='k', label = 'selling signal', markevery = states_sell)\n",
    "plt.title('total gains : %f, total investment : %f%%'%(total_gains, invest))\n",
    "plt.legend()\n",
    "plt.savefig(name+'.png')\n",
    "plt.show()"
   ]
  },
  {
   "cell_type": "code",
   "execution_count": null,
   "id": "68e77322",
   "metadata": {},
   "outputs": [],
   "source": []
  }
 ],
 "metadata": {
  "kernelspec": {
   "display_name": "Python 3 (ipykernel)",
   "language": "python",
   "name": "python3"
  },
  "language_info": {
   "codemirror_mode": {
    "name": "ipython",
    "version": 3
   },
   "file_extension": ".py",
   "mimetype": "text/x-python",
   "name": "python",
   "nbconvert_exporter": "python",
   "pygments_lexer": "ipython3",
   "version": "3.10.4"
  }
 },
 "nbformat": 4,
 "nbformat_minor": 5
}
